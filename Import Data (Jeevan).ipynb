{
 "cells": [
  {
   "cell_type": "code",
   "execution_count": 8,
   "id": "90ac3c78",
   "metadata": {},
   "outputs": [
    {
     "name": "stdout",
     "output_type": "stream",
     "text": [
      "Data compilation complete. The file EMG_data_compiled.csv has been saved to /Users/jeevankarandikar/Documents/GitHub/TNT_Drone_Data_Team/EMG_data_compiled.csv.\n"
     ]
    }
   ],
   "source": [
    "import os\n",
    "import pandas as pd\n",
    "\n",
    "# Directory where the data folders are stored\n",
    "base_directory = \"/Users/jeevankarandikar/Documents/GitHub/TNT_Drone_Data_Team/EMG_data_for_gestures-master\"\n",
    "\n",
    "# Prepare an empty list to collect data from each file\n",
    "all_data = []\n",
    "\n",
    "# Iterate over each user's folder\n",
    "for i in range(1, 37):\n",
    "    user_folder = str(i).zfill(2)  # Ensures the folder name is 2 digits\n",
    "    user_directory = os.path.join(base_directory, user_folder)\n",
    "    \n",
    "    # List all files in the user's folder\n",
    "    files = [f for f in os.listdir(user_directory) if os.path.isfile(os.path.join(user_directory, f))]\n",
    "    \n",
    "    # For each file in the user's folder\n",
    "    for file in files:\n",
    "        file_path = os.path.join(user_directory, file)\n",
    "        \n",
    "        # Read the data file\n",
    "        try:\n",
    "            data = pd.read_csv(file_path, sep=\"\\t\", header=0)\n",
    "        except Exception as e:\n",
    "            print(f\"Error reading {file_path}: {e}\")\n",
    "            continue\n",
    "        \n",
    "        # Extract trial number and date from the file name\n",
    "        trial_number = int(file.split('_')[0])\n",
    "        date = file.split('_')[-1].split('.')[0]\n",
    "        \n",
    "        # Add UserID, Trial, and Date columns\n",
    "        data['UserID'] = i\n",
    "        data['Trial'] = trial_number\n",
    "        data['Date'] = date\n",
    "        \n",
    "        # Append the DataFrame to the list\n",
    "        all_data.append(data)\n",
    "\n",
    "# Concatenate all DataFrames into a single DataFrame\n",
    "compiled_data = pd.concat(all_data, ignore_index=True)\n",
    "\n",
    "# Save the compiled data to a new CSV file\n",
    "output_path = \"/Users/jeevankarandikar/Documents/GitHub/TNT_Drone_Data_Team/EMG_data_compiled.csv\"\n",
    "compiled_data.to_csv(output_path, index=False)\n",
    "\n",
    "print(f\"Data compilation complete. The file EMG_data_compiled.csv has been saved to {output_path}.\")\n"
   ]
  },
  {
   "cell_type": "code",
   "execution_count": null,
   "id": "5a8b5d9e",
   "metadata": {},
   "outputs": [],
   "source": []
  }
 ],
 "metadata": {
  "kernelspec": {
   "display_name": "Python 3 (ipykernel)",
   "language": "python",
   "name": "python3"
  },
  "language_info": {
   "codemirror_mode": {
    "name": "ipython",
    "version": 3
   },
   "file_extension": ".py",
   "mimetype": "text/x-python",
   "name": "python",
   "nbconvert_exporter": "python",
   "pygments_lexer": "ipython3",
   "version": "3.10.9"
  }
 },
 "nbformat": 4,
 "nbformat_minor": 5
}
